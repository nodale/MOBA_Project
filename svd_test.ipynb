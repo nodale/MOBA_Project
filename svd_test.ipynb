{
 "cells": [
  {
   "cell_type": "code",
   "execution_count": 1,
   "metadata": {},
   "outputs": [
    {
     "name": "stdout",
     "output_type": "stream",
     "text": [
      "Scalar type: <class 'numpy.complex128'>\n"
     ]
    }
   ],
   "source": [
    "# Import packages.\n",
    "from petsc4py import PETSc\n",
    "from slepc4py import SLEPc\n",
    "\n",
    "import numpy as np\n",
    "import scipy\n",
    "\n",
    "from matplotlib import pyplot as plt\n",
    "import csv\n",
    "import sys\n",
    "\n",
    "# Check anaconda environment. Script needs complex petsc/slepc. Scalar type should be complex128.\n",
    "from petsc4py import PETSc\n",
    "print(\"Scalar type: \" + str(PETSc.ScalarType))"
   ]
  },
  {
   "cell_type": "code",
   "execution_count": 2,
   "metadata": {},
   "outputs": [],
   "source": [
    "Re = 200\n",
    "base_dir = './backward_facing_step_compressible/'\n",
    "case_path = base_dir + str(Re) + '/'"
   ]
  },
  {
   "cell_type": "code",
   "execution_count": 3,
   "metadata": {},
   "outputs": [],
   "source": [
    "# Load matrices.\n",
    "L = scipy.sparse.load_npz(case_path + 'L.npz')\n",
    "A = scipy.sparse.load_npz(case_path + 'A.npz')\n",
    "\n",
    "# Important: Here equations are formulatet as (\\sigma A + L)q = 0.\n",
    "# However, slepc expects Lq = \\sigma A q.\n",
    "# => Multiply A matrix with -1, before stability analysis.\n",
    "A = A * (-1)"
   ]
  },
  {
   "cell_type": "code",
   "execution_count": 4,
   "metadata": {},
   "outputs": [],
   "source": [
    "# # Visualize the sparsity structure using spy plots.\n",
    "# plt.figure(figsize=(10, 4))\n",
    "# plt.subplot(1, 2, 1)\n",
    "# plt.title(\"Sparsity pattern of A\")\n",
    "# plt.spy(A, markersize=2)\n",
    "\n",
    "# plt.subplot(1, 2, 2)\n",
    "# plt.title(\"Sparsity pattern of L\")\n",
    "# plt.spy(L, markersize=2)\n",
    "# plt.tight_layout()\n",
    "# plt.show()"
   ]
  },
  {
   "cell_type": "code",
   "execution_count": 5,
   "metadata": {},
   "outputs": [],
   "source": [
    "def normalize_matrix(M):\n",
    "    \"\"\"\n",
    "    In-place normalization of a PETSc AIJ matrix M column-by-column using its CSR data.\n",
    "    \n",
    "    For each column j, compute:\n",
    "      mean[j] = (sum_i M(i,j)) / m\n",
    "      std[j]  = sqrt( (sum_i |M(i,j)|^2)/m - |mean[j]|^2 )\n",
    "      \n",
    "    Then update each stored nonzero entry:\n",
    "      M(i,j) = (M(i,j) - mean[j]) / std[j]\n",
    "      \n",
    "    The matrix M is modified in-place.\n",
    "    \"\"\"\n",
    "    # Get global sizes as integers.\n",
    "    m_global, n_global = M.getSize()\n",
    "    m_global = int(m_global)\n",
    "    n_global = int(n_global)\n",
    "\n",
    "    ia, ja, a = M.getValuesCSR()\n",
    "    ja = ja.ravel()  # ensure column indices are 1D\n",
    "\n",
    "    # Allocate per-column accumulators.\n",
    "    col_sum   = np.zeros(n_global, dtype=a.dtype)\n",
    "    col_sumsq = np.zeros(n_global, dtype=np.float64)\n",
    "\n",
    "    # Accumulate sums from the stored nonzero entries.\n",
    "    np.add.at(col_sum, ja, a)\n",
    "    np.add.at(col_sumsq, ja, np.abs(a)**2)\n",
    "    \n",
    "    # Compute per-column mean and standard deviation.\n",
    "    mean = col_sum / m_global\n",
    "    std  = np.sqrt(col_sumsq / m_global - np.abs(mean)**2)\n",
    "    \n",
    "    # Update the nonzero entries in-place.\n",
    "    a[:] = (a - mean[ja]) / std[ja]\n",
    "    \n",
    "    # Commit the new values back to M.\n",
    "    M.setValuesCSR(ia, ja, a)\n",
    "    M.assemble()\n",
    "    return mean, std"
   ]
  },
  {
   "cell_type": "code",
   "execution_count": 6,
   "metadata": {},
   "outputs": [],
   "source": [
    "# Convert from scipy to petsc matrices.\n",
    "L_pet = PETSc.Mat().createAIJ(size=L.shape, csr=(L.indptr, L.indices, L.data))\n",
    "A_pet = PETSc.Mat().createAIJ(size=A.shape, csr=(A.indptr, A.indices, A.data))"
   ]
  },
  {
   "cell_type": "code",
   "execution_count": 7,
   "metadata": {},
   "outputs": [
    {
     "data": {
      "text/plain": [
       "<petsc4py.PETSc.Mat at 0x79e78eb44400>"
      ]
     },
     "execution_count": 7,
     "metadata": {},
     "output_type": "execute_result"
    }
   ],
   "source": [
    "A_H_pet = A_pet.copy()\n",
    "A_H_pet.hermitianTranspose()\n",
    "\n",
    "L_H_pet = L_pet.copy()\n",
    "L_H_pet.hermitianTranspose()"
   ]
  },
  {
   "cell_type": "code",
   "execution_count": 8,
   "metadata": {},
   "outputs": [],
   "source": [
    "# Normalize matrices A and L\n",
    "\n",
    "meanA, stdA = normalize_matrix(A_pet)\n",
    "meanL, stdL = normalize_matrix(L_pet)\n",
    "\n",
    "meanA_H, stdA_H = normalize_matrix(A_H_pet)\n",
    "meanL_H, stdL_H = normalize_matrix(L_H_pet)"
   ]
  },
  {
   "cell_type": "code",
   "execution_count": 9,
   "metadata": {},
   "outputs": [
    {
     "name": "stdout",
     "output_type": "stream",
     "text": [
      "EPS Object: 1 MPI process\n",
      "  type: krylovschur\n",
      "    0% of basis vectors kept after restart\n",
      "    using the locking variant\n",
      "  problem type: generalized non-hermitian eigenvalue problem\n",
      "  selected portion of the spectrum: largest real parts\n",
      "  postprocessing eigenvectors with purification\n",
      "  number of eigenvalues (nev): 5\n",
      "  number of column vectors (ncv): -1\n",
      "  maximum dimension of projected problem (mpd): -1\n",
      "  maximum number of iterations: 200\n",
      "  tolerance: 1e-09\n",
      "  convergence test: relative to the eigenvalue\n",
      "BV Object: 1 MPI process\n",
      "  type: mat\n",
      "  0 columns of global length -1\n",
      "  vector orthogonalization method: classical Gram-Schmidt\n",
      "  orthogonalization refinement: if needed (eta: 0.7071)\n",
      "  block orthogonalization method: GS\n",
      "  doing matmult as a single matrix-matrix product\n",
      "DS Object: 1 MPI process\n",
      "  type: nhep\n",
      "ST Object: 1 MPI process\n",
      "  type: shift\n",
      "  shift: 0.\n",
      "  number of matrices: 2\n",
      "  nonzero pattern of the matrices: UNKNOWN\n",
      "  KSP Object: (st_) 1 MPI process\n",
      "    type: preonly\n",
      "    maximum iterations=10000, initial guess is zero\n",
      "    tolerances: relative=1e-08, absolute=1e-50, divergence=10000.\n",
      "    left preconditioning\n",
      "    using DEFAULT norm type for convergence test\n",
      "  PC Object: (st_) 1 MPI process\n",
      "    type: jacobi\n",
      "    PC has not been set up so information may be incomplete\n",
      "      type DIAGONAL\n",
      "Stopping condition: tol=1e-09, maxit=200\n",
      "Number of converged eigenpairs 5\n"
     ]
    }
   ],
   "source": [
    "n_ev = 5\n",
    "\n",
    "# Setup eigenvalue problem.\n",
    "LEP = SLEPc.EPS().create()\n",
    "LEP.setOperators(L_pet*L_H_pet, A_pet*A_H_pet)\n",
    "LEP.setProblemType(SLEPc.EPS.ProblemType.GNHEP)\n",
    "LEP.setType(SLEPc.EPS.Type.KRYLOVSCHUR)\n",
    "LEP.setDimensions(n_ev, PETSc.DECIDE, PETSc.DECIDE)\n",
    "# LEP.setTwoSided(True)\n",
    "LEP.setWhichEigenpairs(SLEPc.EPS.Which.LARGEST_REAL)\n",
    "# LEP.setWhichEigenpairs(SLEPc.EPS.Which.TARGET_MAGNITUDE)\n",
    "LEP.setTolerances(1e-9, 200)\n",
    "\n",
    "st = LEP.getST()\n",
    "ksp = st.getKSP()\n",
    "\n",
    "ksp.setType(\"preonly\")\n",
    "pc = ksp.getPC()\n",
    "pc.setType(\"jacobi\")\n",
    "\n",
    "LEP.setFromOptions()\n",
    "LEP.view()\n",
    "\n",
    "# Solve eigenvalue problem.\n",
    "LEP.solve()\n",
    "\n",
    "# Access solution.\n",
    "tol, maxit = LEP.getTolerances()\n",
    "n_vec      = LEP.getConverged()\n",
    "    \n",
    "print(\"Stopping condition: tol=%.4g, maxit=%d\" % (tol, maxit))\n",
    "print(\"Number of converged eigenpairs %d\" % n_vec)"
   ]
  },
  {
   "cell_type": "code",
   "execution_count": null,
   "metadata": {},
   "outputs": [
    {
     "name": "stdout",
     "output_type": "stream",
     "text": [
      "\n",
      "        k          ||Ax-kx||/||kx|| \n",
      "----------------- ------------------\n",
      "   11.4648-5.22725e-13 j   2.4927e-11\n",
      "   11.2521-4.65761e-12 j  6.32055e-10\n",
      "   11.0677-1.20172e-14 j  2.91737e-10\n",
      "   10.8734+5.44222e-13 j  8.17422e-10\n",
      "   10.8705-7.88972e-12 j  6.58515e-10\n"
     ]
    }
   ],
   "source": [
    "spectrum = np.zeros(n_vec, dtype=complex)\n",
    "\n",
    "# Create vectors of dimensions of matrix.\n",
    "evR = L_pet.getVecs()[0].duplicate()\n",
    "evR_array = []\n",
    "\n",
    "print()\n",
    "print(\"        k          ||Ax-kx||/||kx|| \")\n",
    "print(\"----------------- ------------------\")\n",
    "\n",
    "for iEv in range(n_vec):\n",
    "\n",
    "    k     = LEP.getEigenvalue(iEv)\n",
    "    error = LEP.getErrorEstimate(iEv)\n",
    "        \n",
    "    LEP.getEigenvector(iEv, evR)\n",
    "\n",
    "    spectrum[iEv] = k\n",
    "\n",
    "    if k.imag != 0.0:\n",
    "        print(\" %9g%+9g j %12g\" % (k.real, k.imag, error))\n",
    "    else:\n",
    "        print(\" %12f      %12g\" % (k.real, error))\n",
    "\n",
    "    evR_array.append(evR.copy())"
   ]
  },
  {
   "cell_type": "code",
   "execution_count": 11,
   "metadata": {},
   "outputs": [],
   "source": [
    "svdU = L_pet.getVecs()[0].duplicate()\n",
    "\n",
    "svdU_array = []\n",
    "\n",
    "for iEv in range(n_vec):\n",
    "    \n",
    "    A_H_pet.mult(evR_array[iEv], svdU)\n",
    "    # normalize eigenvector\n",
    "    norm_val = svdU.norm(PETSc.NormType.NORM_2)\n",
    "    svdU.scale(1.0 / norm_val)\n",
    "    svdU_array.append(svdU.copy())"
   ]
  },
  {
   "cell_type": "code",
   "execution_count": 28,
   "metadata": {},
   "outputs": [],
   "source": [
    "def gram_schmidt(vec_list):\n",
    "    \"\"\"Perform modified Gram-Schmidt on a list of PETSc Vec objects.\"\"\"\n",
    "    orthonormal_vecs = []\n",
    "    for v in vec_list:\n",
    "        # Create a new copy to avoid modifying the original vector.\n",
    "        v_copy = v.copy()\n",
    "        for u in orthonormal_vecs:\n",
    "            # Compute the projection coefficient alpha.\n",
    "            alpha = v_copy.dot(u)\n",
    "            # Remove the component in the direction u.\n",
    "            v_copy.axpy(-alpha, u)\n",
    "        # Normalize the vector.\n",
    "        norm = v_copy.norm(PETSc.NormType.NORM_2)\n",
    "        v_copy.scale(1.0 / norm)\n",
    "        orthonormal_vecs.append(v_copy)\n",
    "    return orthonormal_vecs\n",
    "\n",
    "svdU_array = gram_schmidt(svdU_array)"
   ]
  },
  {
   "cell_type": "code",
   "execution_count": 29,
   "metadata": {},
   "outputs": [
    {
     "name": "stdout",
     "output_type": "stream",
     "text": [
      "non-orthogonality:  1.8515222911846566e-24\n",
      "non-orthogonality:  2.944296104175716e-16\n",
      "non-orthogonality:  2.9795408700643092e-24\n",
      "non-orthogonality:  1.1899868324164935e-24\n",
      "non-orthogonality:  6.314522357780754e-24\n",
      "non-orthogonality:  8.17400639520937e-24\n",
      "non-orthogonality:  2.1201917392037875e-24\n",
      "non-orthogonality:  1.9140538839419956e-22\n",
      "non-orthogonality:  5.659818381717084e-22\n",
      "non-orthogonality:  4.2647462120614004e-16\n",
      "Max non-orthogonality:  3.5501820565266715e-16\n"
     ]
    }
   ],
   "source": [
    "#check for orthogonality\n",
    "max_val = 0\n",
    "for i in range(len(svdU_array)):\n",
    "    for j in range(i+1, len(svdU_array)):\n",
    "        val = svdU_array[i].dot(svdU_array[j])\n",
    "        print(\"non-orthogonality: \", np.abs(val))\n",
    "        max_val = max(max_val, np.abs(val.real))\n",
    "print(\"Max non-orthogonality: \", max_val)"
   ]
  },
  {
   "cell_type": "code",
   "execution_count": 30,
   "metadata": {},
   "outputs": [],
   "source": [
    "#diagonal singular value matrix sigma\n",
    "sigma = np.sqrt(spectrum)\n",
    "np.savez(case_path + 'sigmas.npz', sigma=sigma)"
   ]
  },
  {
   "cell_type": "code",
   "execution_count": 31,
   "metadata": {},
   "outputs": [],
   "source": [
    "# Create a KSP solver for L_pet.\n",
    "ksp = PETSc.KSP().create()\n",
    "ksp.setOperators(L_pet)\n",
    "ksp.setType(\"preonly\")\n",
    "pc = ksp.getPC()\n",
    "pc.setType(\"lu\")\n",
    "ksp.setFromOptions()\n",
    "\n",
    "# Create PETSc vectors for solution and right-hand-side.\n",
    "svdV = L_pet.getVecs()[0].duplicate()\n",
    "rhs = A_pet.getVecs()[0].duplicate()\n",
    "\n",
    "svdV_array = []\n",
    "\n",
    "# Solve for the i-th vector v[i].\n",
    "for i in range(len(svdU_array)):\n",
    "\n",
    "    # Compute rhs = sigma[i] * (A * svdU_array[i])\n",
    "    A_pet.mult(svdU_array[i], rhs)\n",
    "    rhs.scale(sigma[i])  # sigma stored as diagonal matrix\n",
    "\n",
    "    # Solve L * v = rhs\n",
    "    ksp.solve(rhs, svdV)\n",
    "    #check for divergence\n",
    "    if np.isnan(1 / svdV.getArray()[0]):\n",
    "        break\n",
    "\n",
    "    svdV_array.append(svdV.copy())"
   ]
  },
  {
   "cell_type": "code",
   "execution_count": 35,
   "metadata": {},
   "outputs": [
    {
     "name": "stdout",
     "output_type": "stream",
     "text": [
      "non-orthogonality:  12.315309692718303\n",
      "non-orthogonality:  6245.30284492047\n",
      "non-orthogonality:  0.10949798405708226\n",
      "non-orthogonality:  0.026529049998056897\n",
      "non-orthogonality:  8.818609439731214\n",
      "non-orthogonality:  0.09266106238738103\n",
      "non-orthogonality:  0.0012536171266589653\n",
      "non-orthogonality:  0.018855447682633652\n",
      "non-orthogonality:  0.005139130411201344\n",
      "non-orthogonality:  0.08073103019700227\n",
      "Max non-orthogonality:  3784.10523745334\n"
     ]
    }
   ],
   "source": [
    "#check for orthogonality\n",
    "max_val = 0\n",
    "for i in range(len(svdV_array)):\n",
    "    for j in range(i+1, len(svdV_array)):\n",
    "        val = svdV_array[i].dot(svdV_array[j])\n",
    "        print(\"non-orthogonality: \", np.abs(val))\n",
    "        max_val = max(max_val, np.abs(val.real))\n",
    "print(\"Max non-orthogonality: \", max_val)"
   ]
  },
  {
   "cell_type": "markdown",
   "metadata": {},
   "source": [
    "# export SVD"
   ]
  },
  {
   "cell_type": "code",
   "execution_count": 36,
   "metadata": {},
   "outputs": [],
   "source": [
    "import os\n",
    "os.makedirs(case_path + 'svd/', exist_ok=True)"
   ]
  },
  {
   "cell_type": "code",
   "execution_count": 37,
   "metadata": {},
   "outputs": [],
   "source": [
    "for iEv in range(n_vec):\n",
    "    np.savez(case_path + 'svd/' + str(iEv), svdU=svdU_array[iEv].getArray(), svdV=svdV_array[iEv].getArray())"
   ]
  },
  {
   "cell_type": "code",
   "execution_count": 19,
   "metadata": {},
   "outputs": [],
   "source": [
    "# for i in range(len(EWs)):\n",
    "    # sv_data = np.load(case_path + '/svd/' + str(i) + '.npz')\n",
    "    # svdU_np = sv_data['svdU']\n",
    "    # svdV_np = sv_data['svdV']\n",
    "\n",
    "    # equation.q_real_list[equation.dof[\"u\"]].vector().set_local(np.real(svdV_np[equation.VMixed.sub(equation.dof[\"u\"]).dofmap().dofs()]))\n",
    "    # equation.q_imag_list[equation.dof[\"u\"]].vector().set_local(np.imag(svdV_np[equation.VMixed.sub(equation.dof[\"u\"]).dofmap().dofs()]))\n",
    "    # equation.f_real_list[equation.dof[\"u\"]].vector().set_local(np.real(svdU_np[equation.VMixed.sub(equation.dof[\"u\"]).dofmap().dofs()]))\n",
    "    # equation.f_imag_list[equation.dof[\"u\"]].vector().set_local(np.imag(svdU_np[equation.VMixed.sub(equation.dof[\"u\"]).dofmap().dofs()]))\n",
    "\n",
    "    # fields_to_write = {}\n",
    "    # fields_to_write[\"svdU_real\"] = equation.f_real_list[equation.dof[\"u\"]]\n",
    "    # fields_to_write[\"svdU_imag\"] = equation.f_imag_list[equation.dof[\"u\"]]\n",
    "    # fields_to_write[\"svdV_real\"] = equation.q_real_list[equation.dof[\"u\"]]\n",
    "    # fields_to_write[\"svdV_imag\"] = equation.q_imag_list[equation.dof[\"u\"]]\n",
    "\n",
    "    # # Write eigenmodes and singular vectors.\n",
    "    # io = Io()\n",
    "    # io.write_paraview(geometry, settings, \"SVD_\" + str(i), fields_to_write)\n"
   ]
  },
  {
   "cell_type": "markdown",
   "metadata": {},
   "source": [
    "## reconstruct M from SVD"
   ]
  },
  {
   "cell_type": "code",
   "execution_count": null,
   "metadata": {},
   "outputs": [
    {
     "name": "stdout",
     "output_type": "stream",
     "text": [
      "Shell matrix multiplication completed.\n"
     ]
    }
   ],
   "source": [
    "# M = U * Sigma * V^T\n",
    "# export Mk for each k\n",
    "# Mk = U_k * Sigma_k * V_k^T\n",
    "\n",
    "\n",
    "# Create a PETSc shell matrix representing M = Σₖ σₖ (svdUₖ ⊗ svdVₖ)\n",
    "\n",
    "# Define a Python context class for the shell matrix.\n",
    "class SVDMat(object):\n",
    "    def __init__(self, n_vec, svdU_array, svdV_array, sigma):\n",
    "        self.n_vec = n_vec\n",
    "        self.svdU_array = svdU_array\n",
    "        self.svdV_array = svdV_array\n",
    "        self.sigma = sigma\n",
    "\n",
    "    def mult(self, mat, x, y):\n",
    "        # y = Σₖ sigmaₖ * (svdVₖ^T * x) * svdUₖ\n",
    "        y.zeroEntries()\n",
    "        for i in range(self.n_vec):\n",
    "            # Compute dot product v_k^T * x.\n",
    "            dot = self.svdV_array[i].dot(x)\n",
    "            coeff = self.sigma[i] * dot\n",
    "            y.axpy(coeff, self.svdU_array[i])\n",
    "        y.assemble()\n",
    "\n",
    "# Determine global sizes from one of the PETSc Vec objects.\n",
    "m = svdU_array[0].getSize()\n",
    "n = svdV_array[0].getSize()\n",
    "\n",
    "# Create the shell matrix using PETSc's Python matrix type.\n",
    "M_shell = PETSc.Mat().create(PETSc.COMM_WORLD)\n",
    "M_shell.setSizes([[m, None], [n, None]])\n",
    "M_shell.setType('python')\n",
    "# Set the Python context that provides the matrix-vector multiply.\n",
    "M_shell.setPythonContext(SVDMat(nconv, svdU_array, svdV_array, sigma))\n",
    "M_shell.setUp()"
   ]
  },
  {
   "cell_type": "code",
   "execution_count": 21,
   "metadata": {},
   "outputs": [
    {
     "data": {
      "text/plain": [
       "array([ 6.35642266e-09+4.95808337e-09j, -2.62171083e-09-2.66027645e-09j,\n",
       "        3.03801077e-09+2.16951281e-09j, ...,\n",
       "       -1.13350035e-06-1.18569210e-06j,  8.58525282e-07+9.01249452e-07j,\n",
       "       -4.62840229e-08-5.80064839e-08j], shape=(402388,))"
      ]
     },
     "execution_count": 21,
     "metadata": {},
     "output_type": "execute_result"
    }
   ],
   "source": [
    "y.getArray()"
   ]
  },
  {
   "cell_type": "code",
   "execution_count": 45,
   "metadata": {},
   "outputs": [],
   "source": [
    "baseflow_ux = np.load(case_path + 'baseflow.npz')['ux']\n",
    "baseflow_uy = np.load(case_path + 'baseflow.npz')['uy']\n",
    "P_mat = np.load(case_path + 'P.npz')\n",
    "P_csr = scipy.sparse.csr_matrix((P_mat['data'], P_mat['indices'], P_mat['indptr']), shape=P_mat['shape'])"
   ]
  },
  {
   "cell_type": "code",
   "execution_count": 46,
   "metadata": {},
   "outputs": [],
   "source": [
    "baseflow_ux_full = P_csr*baseflow_ux\n",
    "baseflow_uy_full = P_csr*baseflow_uy"
   ]
  },
  {
   "cell_type": "code",
   "execution_count": 47,
   "metadata": {},
   "outputs": [],
   "source": [
    "x = PETSc.Vec().createSeq(n, comm=PETSc.COMM_SELF)\n",
    "x.setArray(baseflow_ux_full.astype(PETSc.ScalarType))\n",
    "\n",
    "y = PETSc.Vec().createSeq(m, comm=PETSc.COMM_SELF)\n",
    "y.setArray(baseflow_uy_full.astype(PETSc.ScalarType))\n",
    "\n",
    "ux = PETSc.Vec().createSeq(m, comm=PETSc.COMM_SELF)\n",
    "uy = PETSc.Vec().createSeq(m, comm=PETSc.COMM_SELF)\n",
    "M_shell.mult(x, ux)\n",
    "M_shell.mult(y, uy)"
   ]
  },
  {
   "cell_type": "code",
   "execution_count": 48,
   "metadata": {},
   "outputs": [],
   "source": [
    "#save baseflow_svd\n",
    "np.savez(case_path + 'baseflow_svd.npz', ux=ux.getArray(), uy=uy.getArray())"
   ]
  },
  {
   "cell_type": "code",
   "execution_count": 27,
   "metadata": {},
   "outputs": [
    {
     "name": "stdout",
     "output_type": "stream",
     "text": [
      "[NbConvertApp] Converting notebook svd_test.ipynb to script\n",
      "[NbConvertApp] Writing 10220 bytes to svd_test.py\n"
     ]
    }
   ],
   "source": [
    "!jupyter nbconvert --to script svd_test.ipynb"
   ]
  },
  {
   "cell_type": "code",
   "execution_count": null,
   "metadata": {},
   "outputs": [],
   "source": []
  }
 ],
 "metadata": {
  "kernelspec": {
   "display_name": ".venv",
   "language": "python",
   "name": "python3"
  },
  "language_info": {
   "codemirror_mode": {
    "name": "ipython",
    "version": 3
   },
   "file_extension": ".py",
   "mimetype": "text/x-python",
   "name": "python",
   "nbconvert_exporter": "python",
   "pygments_lexer": "ipython3",
   "version": "3.12.3"
  }
 },
 "nbformat": 4,
 "nbformat_minor": 2
}
