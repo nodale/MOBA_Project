{
 "cells": [
  {
   "cell_type": "code",
   "execution_count": 2,
   "metadata": {},
   "outputs": [
    {
     "name": "stdout",
     "output_type": "stream",
     "text": [
      "Scalar type: <class 'numpy.complex128'>\n"
     ]
    }
   ],
   "source": [
    "# Import packages.\n",
    "from petsc4py import PETSc\n",
    "from slepc4py import SLEPc\n",
    "\n",
    "import numpy as np\n",
    "import scipy.sparse\n",
    "\n",
    "from matplotlib import pyplot as plt\n",
    "import csv\n",
    "import sys\n",
    "\n",
    "# Check anaconda environment. Script needs complex petsc/slepc. Scalar type should be complex128.\n",
    "from petsc4py import PETSc\n",
    "print(\"Scalar type: \" + str(PETSc.ScalarType))"
   ]
  },
  {
   "cell_type": "code",
   "execution_count": 3,
   "metadata": {},
   "outputs": [],
   "source": [
    "Re = 40\n",
    "base_dir = './backward_facing_step_compressible/'\n",
    "case_path = base_dir + str(Re) + '/'"
   ]
  },
  {
   "cell_type": "code",
   "execution_count": 4,
   "metadata": {},
   "outputs": [],
   "source": [
    "#################################################################################\n",
    "# Setup Generalized Non Hermitian Eigenvalue Problem\n",
    "#################################################################################\n",
    "def setupGeneralizedNonHermitianEPS(LEP, shift):\n",
    "    LEP.setProblemType(SLEPc.EPS.ProblemType.GNHEP)\n",
    "    LEP.setType(SLEPc.EPS.Type.KRYLOVSCHUR)\n",
    "    LEP.setDimensions(10, PETSc.DEFAULT, PETSc.DEFAULT)\n",
    "    # LEP.setTarget(shift)\n",
    "    # LEP.setTwoSided(True)\n",
    "    LEP.setWhichEigenpairs(SLEPc.EPS.Which.LARGEST_REAL)\n",
    "    # LEP.setWhichEigenpairs(SLEPc.EPS.Which.TARGET_MAGNITUDE)\n",
    "    LEP.setTolerances(1e-9, 200)\n",
    "\n",
    "    st = LEP.getST()\n",
    "    ksp = st.getKSP()\n",
    "\n",
    "    ksp.setType(\"preonly\")\n",
    "    pc = ksp.getPC()\n",
    "    pc.setType(\"jacobi\")\n",
    "\n",
    "    LEP.setFromOptions()\n",
    "    LEP.view()"
   ]
  },
  {
   "cell_type": "code",
   "execution_count": 5,
   "metadata": {},
   "outputs": [],
   "source": [
    "# Load matrices.\n",
    "L = scipy.sparse.load_npz(case_path + 'L.npz')\n",
    "A = scipy.sparse.load_npz(case_path + 'A.npz')\n",
    "\n",
    "# Important: Here equations are formulatet as (\\sigma A + L)q = 0.\n",
    "# However, slepc expects Lq = \\sigma A q.\n",
    "# => Multiply A matrix with -1, before stability analysis.\n",
    "A = A * (-1)\n",
    "\n",
    "# Convert from scipy to petsc matrices.\n",
    "L_pet = PETSc.Mat().createAIJ(size=L.shape, csr=(L.indptr, L.indices, L.data))\n",
    "A_pet = PETSc.Mat().createAIJ(size=A.shape, csr=(A.indptr, A.indices, A.data))"
   ]
  },
  {
   "cell_type": "code",
   "execution_count": 6,
   "metadata": {},
   "outputs": [
    {
     "data": {
      "text/plain": [
       "<petsc4py.PETSc.Mat at 0x7be7f01ab740>"
      ]
     },
     "execution_count": 6,
     "metadata": {},
     "output_type": "execute_result"
    }
   ],
   "source": [
    "A_H_pet = A_pet.copy()\n",
    "A_H_pet.hermitianTranspose()\n",
    "\n",
    "L_H_pet = L_pet.copy()\n",
    "L_H_pet.hermitianTranspose()"
   ]
  },
  {
   "cell_type": "code",
   "execution_count": 7,
   "metadata": {},
   "outputs": [
    {
     "name": "stdout",
     "output_type": "stream",
     "text": [
      "EPS Object: 1 MPI process\n",
      "  type: krylovschur\n",
      "    0% of basis vectors kept after restart\n",
      "    using the locking variant\n",
      "  problem type: generalized non-hermitian eigenvalue problem\n",
      "  selected portion of the spectrum: largest real parts\n",
      "  postprocessing eigenvectors with purification\n",
      "  number of eigenvalues (nev): 10\n",
      "  number of column vectors (ncv): -1\n",
      "  maximum dimension of projected problem (mpd): -1\n",
      "  maximum number of iterations: 200\n",
      "  tolerance: 1e-09\n",
      "  convergence test: relative to the eigenvalue\n",
      "BV Object: 1 MPI process\n",
      "  type: mat\n",
      "  0 columns of global length -1\n",
      "  vector orthogonalization method: classical Gram-Schmidt\n",
      "  orthogonalization refinement: if needed (eta: 0.7071)\n",
      "  block orthogonalization method: GS\n",
      "  doing matmult as a single matrix-matrix product\n",
      "DS Object: 1 MPI process\n",
      "  type: nhep\n",
      "ST Object: 1 MPI process\n",
      "  type: shift\n",
      "  shift: 0.\n",
      "  number of matrices: 2\n",
      "  nonzero pattern of the matrices: UNKNOWN\n",
      "  KSP Object: (st_) 1 MPI process\n",
      "    type: preonly\n",
      "    maximum iterations=10000, initial guess is zero\n",
      "    tolerances: relative=1e-08, absolute=1e-50, divergence=10000.\n",
      "    left preconditioning\n",
      "    using DEFAULT norm type for convergence test\n",
      "  PC Object: (st_) 1 MPI process\n",
      "    type: jacobi\n",
      "    PC has not been set up so information may be incomplete\n",
      "      type DIAGONAL\n",
      "Stopping condition: tol=1e-09, maxit=200\n",
      "Number of converged eigenpairs 10\n"
     ]
    }
   ],
   "source": [
    "# Setup eigenvalue problem.\n",
    "LEP = SLEPc.EPS().create()\n",
    "LEP.setOperators(L_pet*L_H_pet, A_pet*A_H_pet)\n",
    "setupGeneralizedNonHermitianEPS(LEP, shift = None)\n",
    "\n",
    "# Solve eigenvalue problem.\n",
    "LEP.solve()\n",
    "\n",
    "# Access solution.\n",
    "tol, maxit = LEP.getTolerances()\n",
    "nconv      = LEP.getConverged()\n",
    "    \n",
    "print(\"Stopping condition: tol=%.4g, maxit=%d\" % (tol, maxit))\n",
    "print(\"Number of converged eigenpairs %d\" % nconv)"
   ]
  },
  {
   "cell_type": "code",
   "execution_count": 21,
   "metadata": {},
   "outputs": [
    {
     "name": "stdout",
     "output_type": "stream",
     "text": [
      "\n",
      "        k          ||Ax-kx||/||kx|| \n",
      "----------------- ------------------\n",
      " 213046034360978.281250+0.128360 j  1.75678e-13\n",
      " 210174855781174.125000-0.331830 j  1.22951e-12\n",
      " 187566953452064.062500-1064.494465 j  5.15142e-10\n",
      " 187566227482735.156250+3211.241165 j  4.11074e-10\n",
      " 187546677468999.250000-26.922485 j  8.67514e-10\n",
      " 187545952113471.031250+1095.852471 j   5.5919e-10\n",
      " 187512919521848.031250-754.096207 j  3.61109e-10\n",
      " 187512195125182.593750+1628.225547 j  7.66004e-10\n",
      " 187465732566823.968750+94.080281 j  1.20527e-10\n",
      " 187465009393359.812500-0.145293 j  6.74767e-11\n"
     ]
    }
   ],
   "source": [
    "spectrum = np.zeros(nconv, dtype=complex)\n",
    "\n",
    "\n",
    "# Create vectors of dimensions of matrix.\n",
    "evR, evL = L_pet.getVecs()\n",
    "evL.destroy()\n",
    "evR_array = []\n",
    "# evL_array = []\n",
    "\n",
    "print()\n",
    "print(\"        k          ||Ax-kx||/||kx|| \")\n",
    "print(\"----------------- ------------------\")\n",
    "\n",
    "for iEv in range(nconv):\n",
    "\n",
    "    k     = LEP.getEigenvalue(iEv)\n",
    "    error = LEP.getErrorEstimate(iEv)\n",
    "        \n",
    "    LEP.getEigenvector(iEv, evR)\n",
    "    # LEP.getLeftEigenvector(iEv, evL)\n",
    "\n",
    "    spectrum[iEv] = k\n",
    "\n",
    "    if k.imag != 0.0:\n",
    "        print(\" %9f%+9f j %12g\" % (k.real, k.imag, error))\n",
    "    else:\n",
    "        print(\" %12f      %12g\" % (k.real, error))\n",
    "\n",
    "    evR_array.append(evR.copy())\n",
    "    # evL_array.append(evL.getArray().copy())"
   ]
  },
  {
   "cell_type": "code",
   "execution_count": 22,
   "metadata": {},
   "outputs": [],
   "source": [
    "evSVD, _ = L_pet.getVecs()\n",
    "_.destroy()\n",
    "\n",
    "evSVD_array = []\n",
    "\n",
    "for iEv in range(nconv):\n",
    "    \n",
    "    A_H_pet.mult(evR_array[iEv], evSVD)\n",
    "    evSVD_array.append(evSVD.copy())"
   ]
  },
  {
   "cell_type": "code",
   "execution_count": 30,
   "metadata": {},
   "outputs": [
    {
     "name": "stdout",
     "output_type": "stream",
     "text": [
      "Orthogonality:  (4.86971378042356e-13+5.387115303525319e-13j)\n",
      "Orthogonality:  (4.0338338862873285e-11-1.6582789173179567e-11j)\n",
      "Orthogonality:  (-3.254869627984079e-11+1.1863951206294918e-11j)\n",
      "Orthogonality:  (5.687372433100956e-11+1.0903263563080977e-10j)\n",
      "Orthogonality:  (-6.651933127618752e-11+4.2857895381869656e-11j)\n",
      "Orthogonality:  (-4.123239337255904e-11-4.417779202626923e-11j)\n",
      "Orthogonality:  (-2.6153812868291032e-11-1.254135409795025e-10j)\n",
      "Orthogonality:  (1.0153258441998623e-11-8.084385097699615e-12j)\n",
      "Orthogonality:  (-1.7125069349046267e-12-7.0976070496372256e-12j)\n",
      "Orthogonality:  (7.521794368365347e-13-2.8297549315012636e-11j)\n",
      "Orthogonality:  (-2.404440953213163e-13+2.2134057384460322e-11j)\n",
      "Orthogonality:  (2.953701874766393e-11+8.627053948682598e-13j)\n",
      "Orthogonality:  (2.0830642848275825e-12+1.8346738247383585e-11j)\n",
      "Orthogonality:  (-1.1664033880733303e-11+5.271550675465696e-12j)\n",
      "Orthogonality:  (-2.6940780026806617e-11-2.603171807821054e-12j)\n",
      "Orthogonality:  (-2.46208371245862e-12-3.786159785586689e-12j)\n",
      "Orthogonality:  (-2.5996716417465147e-12+9.288695542659293e-14j)\n",
      "Orthogonality:  (-4.668521925851269e-06-4.661318988984886e-06j)\n",
      "Orthogonality:  (-7.625261190408832e-07+1.174048375862866e-06j)\n",
      "Orthogonality:  (1.5431871713350446e-07-3.335690698579141e-08j)\n",
      "Orthogonality:  (1.412369607317325e-07+1.0014802616811762e-06j)\n",
      "Orthogonality:  (-5.664631708820069e-09+1.6742942060270525e-08j)\n",
      "Orthogonality:  (-1.1659679400513278e-06+7.863464227805083e-07j)\n",
      "Orthogonality:  (-1.5837424346932012e-07-2.3555236100176238e-08j)\n",
      "Orthogonality:  (6.049165754767613e-07+3.0666574493018585e-07j)\n",
      "Orthogonality:  (1.2041723279248193e-06+4.690098502940991e-07j)\n",
      "Orthogonality:  (-9.373741368553282e-08-2.9357776886392542e-08j)\n",
      "Orthogonality:  (7.822831306925483e-07-2.788898100453643e-07j)\n",
      "Orthogonality:  (-9.36270593064342e-08+2.1139537642189647e-08j)\n",
      "Orthogonality:  (-1.3527243789450045e-06-3.9356044458468255e-07j)\n",
      "Orthogonality:  (-2.851084807887238e-06+3.047039438327613e-06j)\n",
      "Orthogonality:  (-1.949505626157138e-06+2.0164252200914362e-06j)\n",
      "Orthogonality:  (4.6056381710163285e-07+2.8494417427026466e-07j)\n",
      "Orthogonality:  (-2.3535118913043902e-06-8.965529907787486e-07j)\n",
      "Orthogonality:  (-1.006899759276894e-08-3.857062462031877e-08j)\n",
      "Orthogonality:  (8.828099090290752e-09+7.57323480576268e-09j)\n",
      "Orthogonality:  (-2.7295315403536464e-06+3.084306261907869e-07j)\n",
      "Orthogonality:  (1.0943299363451443e-07-6.945840287766097e-08j)\n",
      "Orthogonality:  (2.4341004896253124e-06+5.88207496434315e-07j)\n",
      "Orthogonality:  (-8.22665369688953e-07-4.53707980476676e-06j)\n",
      "Orthogonality:  (-1.9753174113492263e-06-4.427077127339735e-06j)\n",
      "Orthogonality:  (2.3087275214321012e-07-6.747607758586366e-07j)\n",
      "Orthogonality:  (3.0988867651163415e-08-2.842940737252334e-09j)\n",
      "Orthogonality:  (4.44120354044512e-06+1.8646087102335598e-06j)\n",
      "Orthogonality:  (3.7006661995800586e-06+3.2084609878250354e-06j)\n",
      "Max orthogonality:  4.44120354044512e-06\n"
     ]
    }
   ],
   "source": [
    "#check for orthogonality\n",
    "max_val = 0\n",
    "for iEv in range(nconv):\n",
    "    for jEv in range(iEv+1, nconv):\n",
    "        val = evR_array[iEv].dot(evR_array[jEv])\n",
    "        print(\"Orthogonality: \", val)\n",
    "        max_val = max(max_val, val.real)\n",
    "print(\"Max orthogonality: \", max_val)"
   ]
  },
  {
   "cell_type": "code",
   "execution_count": 31,
   "metadata": {},
   "outputs": [],
   "source": [
    "import os"
   ]
  },
  {
   "cell_type": "code",
   "execution_count": 33,
   "metadata": {},
   "outputs": [],
   "source": [
    "os.makedirs(case_path + 'svd/', exist_ok=True)"
   ]
  },
  {
   "cell_type": "code",
   "execution_count": 34,
   "metadata": {},
   "outputs": [],
   "source": [
    "for iEv in range(nconv):\n",
    "    np.savez(case_path + 'svd/' + str(iEv), evR=evR_array[iEv].getArray(), evSVD=evSVD_array[iEv].getArray())"
   ]
  },
  {
   "cell_type": "code",
   "execution_count": null,
   "metadata": {},
   "outputs": [],
   "source": [
    "# for i in range(len(EWs)):\n",
    "#     sv_data = np.load(case_path + 'svd/' + str(i) + '.npz')\n",
    "#     svd_np = sv_data['evSVD']\n",
    "\n",
    "#     equation.q_real_list[equation.dof[\"u\"]].vector().set_local(\n",
    "#         np.real(svd_np[equation.VMixed.sub(equation.dof[\"u\"]).dofmap().dofs()]))\n",
    "#     equation.q_imag_list[equation.dof[\"u\"]].vector().set_local(\n",
    "#         np.imag(svd_np[equation.VMixed.sub(equation.dof[\"u\"]).dofmap().dofs()]))\n",
    "\n",
    "#     fields_to_write[\"svd_real\"] = equation.q_real_list[equation.dof[\"u\"]]\n",
    "#     fields_to_write[\"svd_imag\"] = equation.q_imag_list[equation.dof[\"u\"]]\n",
    "\n",
    "#     # Write eigenmodes and singular vectors.\n",
    "#     io = Io()\n",
    "#     io.write_paraview(geometry, settings, \"eigen_singular_\" + str(i), fields_to_write)"
   ]
  },
  {
   "cell_type": "code",
   "execution_count": 9,
   "metadata": {},
   "outputs": [
    {
     "name": "stdout",
     "output_type": "stream",
     "text": [
      "[NbConvertApp] Converting notebook visualize_eigenmodes.ipynb to script\n",
      "[NbConvertApp] Writing 3129 bytes to visualize_eigenmodes.py\n"
     ]
    }
   ],
   "source": [
    "!jupyter nbconvert --to script visualize_eigenmodes.ipynb"
   ]
  }
 ],
 "metadata": {
  "kernelspec": {
   "display_name": ".venv",
   "language": "python",
   "name": "python3"
  },
  "language_info": {
   "codemirror_mode": {
    "name": "ipython",
    "version": 3
   },
   "file_extension": ".py",
   "mimetype": "text/x-python",
   "name": "python",
   "nbconvert_exporter": "python",
   "pygments_lexer": "ipython3",
   "version": "3.12.3"
  }
 },
 "nbformat": 4,
 "nbformat_minor": 2
}
