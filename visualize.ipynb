{
 "cells": [
  {
   "cell_type": "code",
   "execution_count": 2,
   "metadata": {},
   "outputs": [],
   "source": [
    "import numpy as np\n",
    "import matplotlib.pyplot as plt\n",
    "import h5py"
   ]
  },
  {
   "cell_type": "code",
   "execution_count": 3,
   "metadata": {},
   "outputs": [],
   "source": [
    "results_dir = './backward_facing_step_compressible/result/'"
   ]
  },
  {
   "cell_type": "code",
   "execution_count": 4,
   "metadata": {},
   "outputs": [],
   "source": [
    "baseflow_dir = './backward_facing_step_compressible/baseflow/'\n",
    "#load h5\n",
    "baseflow = h5py.File(baseflow_dir + 'baseflow.h5', 'r')"
   ]
  },
  {
   "cell_type": "code",
   "execution_count": 5,
   "metadata": {},
   "outputs": [],
   "source": [
    "velocity = np.array(baseflow[\"VisualisationVector\"][\"0\"])\n",
    "baseflow.close()"
   ]
  },
  {
   "cell_type": "code",
   "execution_count": 6,
   "metadata": {},
   "outputs": [
    {
     "data": {
      "text/plain": [
       "array([[ 3.13810596e-12,  0.00000000e+00,  0.00000000e+00],\n",
       "       [ 3.13810596e-12,  0.00000000e+00,  0.00000000e+00],\n",
       "       [ 3.13810596e-12,  0.00000000e+00,  0.00000000e+00],\n",
       "       ...,\n",
       "       [ 2.39640130e-01, -8.44536877e-12,  0.00000000e+00],\n",
       "       [ 4.38301177e-01,  1.38986526e-11,  0.00000000e+00],\n",
       "       [ 3.15951430e-01, -1.65167858e-10,  0.00000000e+00]],\n",
       "      shape=(15089, 3))"
      ]
     },
     "execution_count": 6,
     "metadata": {},
     "output_type": "execute_result"
    }
   ],
   "source": [
    "velocity"
   ]
  },
  {
   "cell_type": "code",
   "execution_count": 7,
   "metadata": {},
   "outputs": [],
   "source": [
    "# sparse matrices\n",
    "Qforc = np.load(results_dir + 'Qforc.npz')\n",
    "Qresp = np.load(results_dir + 'Qresp.npz')"
   ]
  },
  {
   "cell_type": "code",
   "execution_count": 8,
   "metadata": {},
   "outputs": [
    {
     "name": "stdout",
     "output_type": "stream",
     "text": [
      "['indices', 'indptr', 'format', 'shape', 'data']\n",
      "[    0    11  1202 11626 15137 18710     1    29    30  1203  2572  2641\n",
      "  9276 15190 15193 18713 18714 22921     2   112]\n",
      "[  0   6  18  24  30  36  42  52  62  72  82  92 100 108 116 124 132 140\n",
      " 148 156]\n"
     ]
    }
   ],
   "source": [
    "print(Qforc.files)\n",
    "#['indices', 'indptr', 'format', 'shape', 'data']\n",
    "print(Qforc['indices'][:20])\n",
    "print(Qforc['indptr'][:20])"
   ]
  },
  {
   "cell_type": "code",
   "execution_count": 9,
   "metadata": {},
   "outputs": [
    {
     "name": "stdout",
     "output_type": "stream",
     "text": [
      "[192539 192539]\n"
     ]
    }
   ],
   "source": [
    "print(Qresp[\"shape\"])"
   ]
  },
  {
   "cell_type": "code",
   "execution_count": 10,
   "metadata": {},
   "outputs": [
    {
     "data": {
      "text/plain": [
       "array([192539, 192539])"
      ]
     },
     "execution_count": 10,
     "metadata": {},
     "output_type": "execute_result"
    }
   ],
   "source": [
    "Qresp[\"shape\"]"
   ]
  },
  {
   "cell_type": "code",
   "execution_count": 13,
   "metadata": {},
   "outputs": [],
   "source": [
    "gain_curve = np.load('./computer_lab_9_template_compressible/result/gain_sum_curve.npz')"
   ]
  },
  {
   "cell_type": "code",
   "execution_count": 14,
   "metadata": {},
   "outputs": [
    {
     "data": {
      "text/plain": [
       "array([480.99537747, 664.04049729, 948.51812794, 431.92304397,\n",
       "       273.86004423, 217.28516056])"
      ]
     },
     "execution_count": 14,
     "metadata": {},
     "output_type": "execute_result"
    }
   ],
   "source": [
    "gain_curve['gain']"
   ]
  },
  {
   "cell_type": "code",
   "execution_count": 15,
   "metadata": {},
   "outputs": [
    {
     "data": {
      "text/plain": [
       "[<matplotlib.lines.Line2D at 0x75e0110af9e0>]"
      ]
     },
     "execution_count": 15,
     "metadata": {},
     "output_type": "execute_result"
    },
    {
     "data": {
      "image/png": "[encoded data removed]",
      "text/plain": [
       "<Figure size 640x480 with 1 Axes>"
      ]
     },
     "metadata": {},
     "output_type": "display_data"
    }
   ],
   "source": [
    "plt.plot(gain_curve['St'], gain_curve['gain'])"
   ]
  },
  {
   "cell_type": "code",
   "execution_count": null,
   "metadata": {},
   "outputs": [],
   "source": []
  }
 ],
 "metadata": {
  "kernelspec": {
   "display_name": "jupyter",
   "language": "python",
   "name": "python3"
  },
  "language_info": {
   "codemirror_mode": {
    "name": "ipython",
    "version": 3
   },
   "file_extension": ".py",
   "mimetype": "text/x-python",
   "name": "python",
   "nbconvert_exporter": "python",
   "pygments_lexer": "ipython3",
   "version": "3.12.3"
  }
 },
 "nbformat": 4,
 "nbformat_minor": 2
}
